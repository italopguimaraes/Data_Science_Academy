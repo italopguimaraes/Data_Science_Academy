{
 "cells": [
  {
   "cell_type": "markdown",
   "metadata": {},
   "source": [
    "# <font color='blue'>Data Science Academy</font>\n",
    "# <font color='blue'>Business Analytics</font>\n",
    "\n",
    "# <font color='blue'>Supply Chain Analytics</font>\n",
    "## <font color='blue'>Mini-Projeto 10</font>\n",
    "### <font color='blue'>Sistema de Recomendação Para Rede de Varejo Usando Market Basket Analysis</font>"
   ]
  },
  {
   "cell_type": "markdown",
   "metadata": {},
   "source": [
    "## Definição do Problema\n",
    "\n",
    "Quer você faça compras com listas de compras meticulosamente\n",
    "planejadas ou deixe que o capricho guie seus passos, nossos rituais únicos de\n",
    "compra definem quem somos. Instacart, um aplicativo de pedido e entrega de\n",
    "supermercado, tem como objetivo facilitar o preenchimento de sua geladeira e\n",
    "despensa com seus itens pessoais favoritos e itens básicos quando você precisar\n",
    "deles. Depois de selecionar produtos por meio do aplicativo Instacart, os\n",
    "compradores revisam seus pedidos, fazem compras e a entrega é feita na loja\n",
    "mais próxima a você.\n",
    "A equipe de ciência de dados da Instacart desempenha um papel\n",
    "importante no fornecimento dessa experiência de compra agradável. Atualmente,\n",
    "eles usam dados transacionais para desenvolver modelos que preveem quais\n",
    "produtos um usuário comprará novamente, quais tentará pela primeira vez ou\n",
    "quais adicionará ao carrinho durante uma sessão. Recentemente, a Instacart\n",
    "disponibilizou esses dados de forma aberta e o link para download você encontra\n",
    "logo abaixo\n",
    "Neste projeto de ciência de dados, você usará esses dados anônimos nos\n",
    "pedidos dos clientes ao longo do tempo para prever quais produtos adquiridos\n",
    "anteriormente estarão no próximo pedido de um usuário."
   ]
  },
  {
   "cell_type": "markdown",
   "metadata": {},
   "source": [
    "## Fonte de Dados\n",
    "\n",
    "https://www.kaggle.com/c/instacart-market-basket-analysis/data"
   ]
  },
  {
   "cell_type": "markdown",
   "metadata": {},
   "source": [
    "## Instalando e Carregando os Pacotes"
   ]
  },
  {
   "cell_type": "code",
   "execution_count": 1,
   "metadata": {},
   "outputs": [
    {
     "name": "stdout",
     "output_type": "stream",
     "text": [
      "Collecting fpgrowth_py\n",
      "  Using cached fpgrowth_py-1.0.0-py3-none-any.whl (5.6 kB)\n",
      "Installing collected packages: fpgrowth_py\n",
      "Successfully installed fpgrowth_py-1.0.0\n"
     ]
    },
    {
     "name": "stderr",
     "output_type": "stream",
     "text": [
      "WARNING: Ignoring invalid distribution -umpy (c:\\users\\italo.guimaraes\\appdata\\local\\continuum\\anaconda3\\lib\\site-packages)\n",
      "WARNING: Ignoring invalid distribution -umpy (c:\\users\\italo.guimaraes\\appdata\\local\\continuum\\anaconda3\\lib\\site-packages)\n",
      "WARNING: Ignoring invalid distribution -umpy (c:\\users\\italo.guimaraes\\appdata\\local\\continuum\\anaconda3\\lib\\site-packages)\n",
      "WARNING: Ignoring invalid distribution -umpy (c:\\users\\italo.guimaraes\\appdata\\local\\continuum\\anaconda3\\lib\\site-packages)\n"
     ]
    }
   ],
   "source": [
    "!pip install fpgrowth_py"
   ]
  },
  {
   "cell_type": "code",
   "execution_count": 2,
   "metadata": {},
   "outputs": [],
   "source": [
    "# Imports\n",
    "from fpgrowth_py import fpgrowth\n",
    "import pandas as pd\n",
    "import numpy as np\n",
    "import matplotlib.pyplot as plt\n",
    "import seaborn as sns"
   ]
  },
  {
   "cell_type": "markdown",
   "metadata": {},
   "source": [
    "## Etapa 1 - Análise Exploratória"
   ]
  },
  {
   "cell_type": "markdown",
   "metadata": {},
   "source": [
    "### Carregando os Dados"
   ]
  },
  {
   "cell_type": "code",
   "execution_count": null,
   "metadata": {},
   "outputs": [],
   "source": [
    "# Carrega os dados\n",
    "df_aisles = pd.read_csv(\"dados/aisles.csv\", encoding = 'latin1')\n",
    "df_departments = pd.read_csv(\"dados/departments.csv\", encoding = 'latin1')\n",
    "df_order_products__prior = pd.read_csv(\"dados/order_products__prior.csv\", encoding = 'latin1')\n",
    "df_order_products__train = pd.read_csv(\"dados/order_products__train.csv\", encoding = 'latin1')\n",
    "df_orders = pd.read_csv(\"dados/orders.csv\", encoding = 'latin1')\n",
    "df_products = pd.read_csv(\"dados/products.csv\", encoding = 'latin1')\n",
    "df_sample_submission = pd.read_csv(\"dados/sample_submission.csv\", encoding = 'latin1')"
   ]
  },
  {
   "cell_type": "code",
   "execution_count": null,
   "metadata": {},
   "outputs": [],
   "source": [
    "# Amostra de dados\n",
    "df_aisles.head()"
   ]
  },
  {
   "cell_type": "code",
   "execution_count": null,
   "metadata": {},
   "outputs": [],
   "source": [
    "df_aisles.info()"
   ]
  },
  {
   "cell_type": "code",
   "execution_count": null,
   "metadata": {},
   "outputs": [],
   "source": [
    "# Amostra de dados\n",
    "df_departments.head()"
   ]
  },
  {
   "cell_type": "code",
   "execution_count": null,
   "metadata": {},
   "outputs": [],
   "source": [
    "df_departments.info()"
   ]
  },
  {
   "cell_type": "code",
   "execution_count": null,
   "metadata": {},
   "outputs": [],
   "source": [
    "df_order_products__prior.info()"
   ]
  },
  {
   "cell_type": "code",
   "execution_count": null,
   "metadata": {},
   "outputs": [],
   "source": [
    "df_order_products__train.info()"
   ]
  },
  {
   "cell_type": "code",
   "execution_count": null,
   "metadata": {},
   "outputs": [],
   "source": [
    "#une os dois dataframes\n",
    "df_order_products=df_order_products__prior.append(df_order_products__train)\n",
    "len(df_order_products)"
   ]
  },
  {
   "cell_type": "code",
   "execution_count": null,
   "metadata": {},
   "outputs": [],
   "source": [
    "df_order_products__prior.head()"
   ]
  },
  {
   "cell_type": "code",
   "execution_count": null,
   "metadata": {},
   "outputs": [],
   "source": [
    "df_order_products__prior.info()"
   ]
  },
  {
   "cell_type": "code",
   "execution_count": null,
   "metadata": {},
   "outputs": [],
   "source": [
    "df_order_products__train.head()"
   ]
  },
  {
   "cell_type": "code",
   "execution_count": null,
   "metadata": {},
   "outputs": [],
   "source": [
    "df_order_products__train.info()"
   ]
  },
  {
   "cell_type": "code",
   "execution_count": null,
   "metadata": {},
   "outputs": [],
   "source": [
    "df_orders.drop(['eval_set'],axis = 1, inplace=True)"
   ]
  },
  {
   "cell_type": "code",
   "execution_count": null,
   "metadata": {},
   "outputs": [],
   "source": [
    "df_orders.head()"
   ]
  },
  {
   "cell_type": "code",
   "execution_count": null,
   "metadata": {},
   "outputs": [],
   "source": [
    "df_orders.info()"
   ]
  },
  {
   "cell_type": "code",
   "execution_count": null,
   "metadata": {},
   "outputs": [],
   "source": [
    "df_products.head()"
   ]
  },
  {
   "cell_type": "code",
   "execution_count": null,
   "metadata": {},
   "outputs": [],
   "source": [
    "df_products.info()"
   ]
  },
  {
   "cell_type": "code",
   "execution_count": null,
   "metadata": {},
   "outputs": [],
   "source": [
    "df_sample_submission.head()"
   ]
  },
  {
   "cell_type": "code",
   "execution_count": null,
   "metadata": {},
   "outputs": [],
   "source": [
    "df_sample_submission.info()"
   ]
  },
  {
   "cell_type": "code",
   "execution_count": null,
   "metadata": {
    "scrolled": true
   },
   "outputs": [],
   "source": [
    "# Verificando valores ausentes\n",
    "df_aisles.apply(lambda x: sum(x.isnull()))"
   ]
  },
  {
   "cell_type": "code",
   "execution_count": null,
   "metadata": {},
   "outputs": [],
   "source": [
    "# Verificando valores ausentes\n",
    "df_departments.apply(lambda x: sum(x.isnull()))"
   ]
  },
  {
   "cell_type": "code",
   "execution_count": null,
   "metadata": {},
   "outputs": [],
   "source": [
    "# Verificando valores ausentes\n",
    "df_order_products__prior.apply(lambda x: sum(x.isnull()))"
   ]
  },
  {
   "cell_type": "code",
   "execution_count": null,
   "metadata": {},
   "outputs": [],
   "source": [
    "# Verificando valores ausentes\n",
    "df_order_products__train.apply(lambda x: sum(x.isnull()))"
   ]
  },
  {
   "cell_type": "code",
   "execution_count": null,
   "metadata": {},
   "outputs": [],
   "source": [
    "# Verificando valores ausentes\n",
    "df_orders.apply(lambda x: sum(x.isnull()))"
   ]
  },
  {
   "cell_type": "code",
   "execution_count": null,
   "metadata": {},
   "outputs": [],
   "source": [
    "# Verificando valores ausentes\n",
    "df_products.apply(lambda x: sum(x.isnull()))"
   ]
  },
  {
   "cell_type": "code",
   "execution_count": null,
   "metadata": {},
   "outputs": [],
   "source": [
    "# Verificando valores ausentes\n",
    "df_sample_submission.apply(lambda x: sum(x.isnull()))"
   ]
  },
  {
   "cell_type": "code",
   "execution_count": null,
   "metadata": {},
   "outputs": [],
   "source": [
    "df_departments.info()"
   ]
  },
  {
   "cell_type": "code",
   "execution_count": null,
   "metadata": {},
   "outputs": [],
   "source": [
    "## Une todos os dataframes em um único"
   ]
  },
  {
   "cell_type": "code",
   "execution_count": null,
   "metadata": {},
   "outputs": [],
   "source": [
    "df=df_aisles.merge(df_products,how='inner',on='aisle_id')\n",
    "len(df)"
   ]
  },
  {
   "cell_type": "code",
   "execution_count": null,
   "metadata": {},
   "outputs": [],
   "source": [
    "df=df.merge(df_departments,how='inner',on='department_id')\n",
    "len(df)"
   ]
  },
  {
   "cell_type": "code",
   "execution_count": null,
   "metadata": {},
   "outputs": [],
   "source": [
    "df=df.merge(df_order_products,how='inner',on='product_id')\n",
    "len(df)"
   ]
  },
  {
   "cell_type": "code",
   "execution_count": null,
   "metadata": {},
   "outputs": [],
   "source": [
    "df=df.merge(df_orders,how='inner',on='order_id')\n",
    "len(df)"
   ]
  },
  {
   "cell_type": "code",
   "execution_count": null,
   "metadata": {},
   "outputs": [],
   "source": [
    "df.head()"
   ]
  },
  {
   "cell_type": "code",
   "execution_count": null,
   "metadata": {},
   "outputs": [],
   "source": [
    "df.info()"
   ]
  },
  {
   "cell_type": "code",
   "execution_count": null,
   "metadata": {},
   "outputs": [],
   "source": [
    "df.isnull().sum()"
   ]
  },
  {
   "cell_type": "code",
   "execution_count": null,
   "metadata": {},
   "outputs": [],
   "source": [
    "df['days_since_prior_order']=df['days_since_prior_order'].fillna(0) #fill na values with 0"
   ]
  },
  {
   "cell_type": "code",
   "execution_count": null,
   "metadata": {},
   "outputs": [],
   "source": [
    "df.isnull().sum()"
   ]
  },
  {
   "cell_type": "code",
   "execution_count": null,
   "metadata": {},
   "outputs": [],
   "source": [
    "# Tipos de dados\n",
    "df.info()"
   ]
  },
  {
   "cell_type": "code",
   "execution_count": null,
   "metadata": {},
   "outputs": [],
   "source": [
    "df['days_since_prior_order']=df['days_since_prior_order'].astype(int)"
   ]
  },
  {
   "cell_type": "code",
   "execution_count": null,
   "metadata": {},
   "outputs": [],
   "source": [
    "df.head()"
   ]
  },
  {
   "cell_type": "code",
   "execution_count": null,
   "metadata": {},
   "outputs": [],
   "source": [
    "df.columns"
   ]
  },
  {
   "cell_type": "code",
   "execution_count": null,
   "metadata": {},
   "outputs": [],
   "source": [
    "# Matriz de correlação para as variáveis numéricas\n",
    "fig, ax = plt.subplots(figsize = (24,12))         \n",
    "sns.heatmap(df[['aisle', 'product_name', 'department', 'add_to_cart_order', 'reordered', 'order_number', 'order_dow', 'order_hour_of_day','days_since_prior_order']].corr(), annot = True, linewidths = .5, fmt = '.1g', cmap = 'Purples') "
   ]
  },
  {
   "cell_type": "markdown",
   "metadata": {},
   "source": [
    "> De acordo com a Matriz de Correlação, podemos ver que o existe uma corelação se o pedido foi reordenado e o número da ordem, embora não seja significativa."
   ]
  },
  {
   "cell_type": "markdown",
   "metadata": {},
   "source": [
    "### Quantidade de Produtos Vendidos por Departamento"
   ]
  },
  {
   "cell_type": "code",
   "execution_count": null,
   "metadata": {},
   "outputs": [],
   "source": [
    "# Agrupa os dados por departamento\n",
    "df_departament = df.groupby('department')"
   ]
  },
  {
   "cell_type": "code",
   "execution_count": null,
   "metadata": {},
   "outputs": [],
   "source": [
    "# Plot\n",
    "plt.figure(1)\n",
    "df_departament['product_id'].sum().sort_values(ascending = False).plot.pie(figsize = (18,8), \n",
    "                                                                                  title = \"Quantidade de Produtos Vendidos por Departamento\")"
   ]
  },
  {
   "cell_type": "markdown",
   "metadata": {},
   "source": [
    "Pelo gráfico acima podemos observar que o departamento produce é o que possui maior quantidade de unidades vendidas"
   ]
  },
  {
   "cell_type": "markdown",
   "metadata": {},
   "source": [
    "### Quantidade de Produtos Vendidos por Hora do Dia"
   ]
  },
  {
   "cell_type": "code",
   "execution_count": null,
   "metadata": {},
   "outputs": [],
   "source": [
    "# Agrupa por Hora do Dia\n",
    "df_hour_of_day = df.groupby('order_hour_of_day')"
   ]
  },
  {
   "cell_type": "code",
   "execution_count": null,
   "metadata": {},
   "outputs": [],
   "source": [
    "# Plot\n",
    "plt.figure(1)\n",
    "df_hour_of_day['product_id'].sum().sort_values(ascending = False).plot.barh(figsize = (18,8), \n",
    "                                                                                  color  = ['red'], \n",
    "                                                                                  title = \"Quantidade de Produtos Vendidos por Hora do Dia\")"
   ]
  },
  {
   "cell_type": "markdown",
   "metadata": {},
   "source": [
    "No gráfico acima podemos ver que o periodo que apresenta maior quantidade de vendas são as 10h "
   ]
  },
  {
   "cell_type": "markdown",
   "metadata": {},
   "source": [
    "## Quantidade de Produtos Vendidos por Reordenamento"
   ]
  },
  {
   "cell_type": "code",
   "execution_count": null,
   "metadata": {},
   "outputs": [],
   "source": [
    "# Agrupa por reordered\n",
    "df_reordered = df.groupby('reordered')"
   ]
  },
  {
   "cell_type": "code",
   "execution_count": null,
   "metadata": {},
   "outputs": [],
   "source": [
    "# Plot\n",
    "plt.figure(1)\n",
    "df_reordered['product_id'].sum().sort_values(ascending = False).plot.bar(figsize = (18,8), \n",
    "                                                                                  color  = ['yellow'], \n",
    "                                                                                  title = \"Quantidade de Produtos Vendidos por Reordenamento\")"
   ]
  },
  {
   "cell_type": "markdown",
   "metadata": {},
   "source": [
    "Podemos notar que a maior parte dos produtos vendidos foram reordenados"
   ]
  },
  {
   "cell_type": "markdown",
   "metadata": {},
   "source": [
    "### Média de Vendas Por Corredor"
   ]
  },
  {
   "cell_type": "code",
   "execution_count": null,
   "metadata": {},
   "outputs": [],
   "source": [
    "# Agrupa os dados por corredor\n",
    "df_corredor = df.groupby('aisle')"
   ]
  },
  {
   "cell_type": "code",
   "execution_count": null,
   "metadata": {},
   "outputs": [],
   "source": [
    "# Plot\n",
    "plt.figure(1)\n",
    "df_corredor['product_id'].mean().sort_values(ascending = False).plot.barh(figsize = (20,20), \n",
    "                                                                                  color  = ['blue'], \n",
    "                                                                                  title = \"Média de Vendas Por Corredor\")"
   ]
  },
  {
   "cell_type": "markdown",
   "metadata": {},
   "source": [
    "Pelo gráfico acima podemos verificar que o corredor que possui maior média de vendas é o de acessórios para bebês"
   ]
  },
  {
   "cell_type": "markdown",
   "metadata": {},
   "source": [
    "## Total de Vendas Por Dias Desde o Último Pedido"
   ]
  },
  {
   "cell_type": "code",
   "execution_count": null,
   "metadata": {},
   "outputs": [],
   "source": [
    "# Agrupa os dados por dias desde o ultimo pedido\n",
    "df_days = df.groupby('days_since_prior_order')"
   ]
  },
  {
   "cell_type": "code",
   "execution_count": null,
   "metadata": {},
   "outputs": [],
   "source": [
    "# Plot\n",
    "plt.figure(1)\n",
    "df_days['product_id'].sum().sort_values(ascending = False).plot.barh(figsize = (20,20), \n",
    "                                                                                  color  = ['green'], \n",
    "                                                                                  title = \"Vendas Por Dias Desde o Último Pedido\")"
   ]
  },
  {
   "cell_type": "markdown",
   "metadata": {},
   "source": [
    "Pelo gráfico acima podemos verificar que a maioria das vendas foram realizadas 7 dias desde o último pedido"
   ]
  },
  {
   "cell_type": "markdown",
   "metadata": {},
   "source": [
    "## Total de Vendas por Dia da Semana"
   ]
  },
  {
   "cell_type": "code",
   "execution_count": null,
   "metadata": {},
   "outputs": [],
   "source": [
    "# Agrupa os dados por dias da semane\n",
    "df_dow = df.groupby('order_dow')"
   ]
  },
  {
   "cell_type": "code",
   "execution_count": null,
   "metadata": {},
   "outputs": [],
   "source": [
    "# Plot\n",
    "plt.figure(1)\n",
    "df_dow['product_id'].mean().sort_values(ascending = False).plot.pie(figsize = (20,20), title = \"Total de Vendas por Dia da Semana\")"
   ]
  },
  {
   "cell_type": "markdown",
   "metadata": {},
   "source": [
    "Pelo gráfico acima podemos verificar que a maioria das vendas foram realizadas no domingo"
   ]
  },
  {
   "cell_type": "code",
   "execution_count": null,
   "metadata": {},
   "outputs": [],
   "source": [
    "# Vamos salvar os dados processados até aqui\n",
    "df.to_csv(\"dados/DataCoSupplyChainDatasetProcessados.csv\")"
   ]
  },
  {
   "cell_type": "markdown",
   "metadata": {},
   "source": [
    "## Etapa 2 - Regras de Associação"
   ]
  },
  {
   "cell_type": "markdown",
   "metadata": {},
   "source": [
    "As Regras de Associação representam um dos conceitos mais importantes de aprendizado de máquina usado principalmente na análise de cesta de compras. Ou seja, precisamos de dados de vendas de produtos.\n",
    "\n",
    "Em uma loja (ou portal de e-commerce), todos os vegetais são colocados no mesmo corredor, todos os laticínios são colocados juntos e os cosméticos formam outro conjunto desses grupos. \n",
    "\n",
    "Investir tempo e recursos em posicionamentos deliberados de produtos não apenas reduz o tempo de compra do cliente, mas também lembra o cliente de quais itens relevantes ele pode estar interessado em comprar, ajudando assim as lojas a fazerem vendas cruzadas no processo. Outra vantagem é na cadeia de suprimentos, pois os sistemas de entrega podem ser adaptados e personalizados ao padrão de compra dos clientes.\n",
    "\n",
    "As Regras de Associação ajudam a descobrir todas essas relações entre itens de bancos de dados imensos. Uma coisa importante a se notar é que as Regras de Associação não extraem a preferência de um indivíduo, em vez disso, encontram relações entre um conjunto de elementos de cada transação distinta. Isso é o que os torna diferentes da filtragem colaborativa, por exemplo."
   ]
  },
  {
   "cell_type": "code",
   "execution_count": 8,
   "metadata": {},
   "outputs": [],
   "source": [
    "# Carregamos os dados processados e seguimos com o trabalho de análise\n",
    "df = pd.read_csv(\"dados/DataCoSupplyChainDatasetProcessados.csv\", encoding = 'latin1')"
   ]
  },
  {
   "cell_type": "code",
   "execution_count": 9,
   "metadata": {},
   "outputs": [
    {
     "data": {
      "text/html": [
       "<div>\n",
       "<style scoped>\n",
       "    .dataframe tbody tr th:only-of-type {\n",
       "        vertical-align: middle;\n",
       "    }\n",
       "\n",
       "    .dataframe tbody tr th {\n",
       "        vertical-align: top;\n",
       "    }\n",
       "\n",
       "    .dataframe thead th {\n",
       "        text-align: right;\n",
       "    }\n",
       "</style>\n",
       "<table border=\"1\" class=\"dataframe\">\n",
       "  <thead>\n",
       "    <tr style=\"text-align: right;\">\n",
       "      <th></th>\n",
       "      <th>Unnamed: 0</th>\n",
       "      <th>aisle_id</th>\n",
       "      <th>aisle</th>\n",
       "      <th>product_id</th>\n",
       "      <th>product_name</th>\n",
       "      <th>department_id</th>\n",
       "      <th>department</th>\n",
       "      <th>order_id</th>\n",
       "      <th>add_to_cart_order</th>\n",
       "      <th>reordered</th>\n",
       "      <th>user_id</th>\n",
       "      <th>order_number</th>\n",
       "      <th>order_dow</th>\n",
       "      <th>order_hour_of_day</th>\n",
       "      <th>days_since_prior_order</th>\n",
       "    </tr>\n",
       "  </thead>\n",
       "  <tbody>\n",
       "    <tr>\n",
       "      <th>33819101</th>\n",
       "      <td>33819101</td>\n",
       "      <td>100</td>\n",
       "      <td>missing</td>\n",
       "      <td>48811</td>\n",
       "      <td>General Tsao's Tofu</td>\n",
       "      <td>21</td>\n",
       "      <td>missing</td>\n",
       "      <td>2712617</td>\n",
       "      <td>1</td>\n",
       "      <td>0</td>\n",
       "      <td>175174</td>\n",
       "      <td>4</td>\n",
       "      <td>0</td>\n",
       "      <td>17</td>\n",
       "      <td>14.0</td>\n",
       "    </tr>\n",
       "    <tr>\n",
       "      <th>33819102</th>\n",
       "      <td>33819102</td>\n",
       "      <td>100</td>\n",
       "      <td>missing</td>\n",
       "      <td>48813</td>\n",
       "      <td>Lndbrg Wht Jasm Rice 8 Z</td>\n",
       "      <td>21</td>\n",
       "      <td>missing</td>\n",
       "      <td>1717868</td>\n",
       "      <td>1</td>\n",
       "      <td>0</td>\n",
       "      <td>7431</td>\n",
       "      <td>24</td>\n",
       "      <td>2</td>\n",
       "      <td>11</td>\n",
       "      <td>30.0</td>\n",
       "    </tr>\n",
       "    <tr>\n",
       "      <th>33819103</th>\n",
       "      <td>33819103</td>\n",
       "      <td>100</td>\n",
       "      <td>missing</td>\n",
       "      <td>48828</td>\n",
       "      <td>Popcorn Butter Flavor</td>\n",
       "      <td>21</td>\n",
       "      <td>missing</td>\n",
       "      <td>832621</td>\n",
       "      <td>1</td>\n",
       "      <td>0</td>\n",
       "      <td>75414</td>\n",
       "      <td>24</td>\n",
       "      <td>1</td>\n",
       "      <td>13</td>\n",
       "      <td>7.0</td>\n",
       "    </tr>\n",
       "    <tr>\n",
       "      <th>33819104</th>\n",
       "      <td>33819104</td>\n",
       "      <td>100</td>\n",
       "      <td>missing</td>\n",
       "      <td>49482</td>\n",
       "      <td>Black Tea With Vanilla Flavor In Pyramid Bags</td>\n",
       "      <td>21</td>\n",
       "      <td>missing</td>\n",
       "      <td>2868431</td>\n",
       "      <td>1</td>\n",
       "      <td>0</td>\n",
       "      <td>38108</td>\n",
       "      <td>39</td>\n",
       "      <td>3</td>\n",
       "      <td>9</td>\n",
       "      <td>4.0</td>\n",
       "    </tr>\n",
       "    <tr>\n",
       "      <th>33819105</th>\n",
       "      <td>33819105</td>\n",
       "      <td>100</td>\n",
       "      <td>missing</td>\n",
       "      <td>49553</td>\n",
       "      <td>Organic Plain Skyr</td>\n",
       "      <td>21</td>\n",
       "      <td>missing</td>\n",
       "      <td>1648925</td>\n",
       "      <td>1</td>\n",
       "      <td>1</td>\n",
       "      <td>9568</td>\n",
       "      <td>8</td>\n",
       "      <td>4</td>\n",
       "      <td>16</td>\n",
       "      <td>6.0</td>\n",
       "    </tr>\n",
       "  </tbody>\n",
       "</table>\n",
       "</div>"
      ],
      "text/plain": [
       "          Unnamed: 0  aisle_id    aisle  product_id  \\\n",
       "33819101    33819101       100  missing       48811   \n",
       "33819102    33819102       100  missing       48813   \n",
       "33819103    33819103       100  missing       48828   \n",
       "33819104    33819104       100  missing       49482   \n",
       "33819105    33819105       100  missing       49553   \n",
       "\n",
       "                                           product_name  department_id  \\\n",
       "33819101                            General Tsao's Tofu             21   \n",
       "33819102                       Lndbrg Wht Jasm Rice 8 Z             21   \n",
       "33819103                          Popcorn Butter Flavor             21   \n",
       "33819104  Black Tea With Vanilla Flavor In Pyramid Bags             21   \n",
       "33819105                             Organic Plain Skyr             21   \n",
       "\n",
       "         department  order_id  add_to_cart_order  reordered  user_id  \\\n",
       "33819101    missing   2712617                  1          0   175174   \n",
       "33819102    missing   1717868                  1          0     7431   \n",
       "33819103    missing    832621                  1          0    75414   \n",
       "33819104    missing   2868431                  1          0    38108   \n",
       "33819105    missing   1648925                  1          1     9568   \n",
       "\n",
       "          order_number  order_dow  order_hour_of_day  days_since_prior_order  \n",
       "33819101             4          0                 17                    14.0  \n",
       "33819102            24          2                 11                    30.0  \n",
       "33819103            24          1                 13                     7.0  \n",
       "33819104            39          3                  9                     4.0  \n",
       "33819105             8          4                 16                     6.0  "
      ]
     },
     "execution_count": 9,
     "metadata": {},
     "output_type": "execute_result"
    }
   ],
   "source": [
    "# Visualiza\n",
    "df.tail()"
   ]
  },
  {
   "cell_type": "code",
   "execution_count": 10,
   "metadata": {},
   "outputs": [
    {
     "data": {
      "text/plain": [
       "Index(['Unnamed: 0', 'aisle_id', 'aisle', 'product_id', 'product_name',\n",
       "       'department_id', 'department', 'order_id', 'add_to_cart_order',\n",
       "       'reordered', 'user_id', 'order_number', 'order_dow',\n",
       "       'order_hour_of_day', 'days_since_prior_order'],\n",
       "      dtype='object')"
      ]
     },
     "execution_count": 10,
     "metadata": {},
     "output_type": "execute_result"
    }
   ],
   "source": [
    "df.columns"
   ]
  },
  {
   "cell_type": "code",
   "execution_count": 11,
   "metadata": {},
   "outputs": [
    {
     "data": {
      "text/plain": [
       "49685"
      ]
     },
     "execution_count": 11,
     "metadata": {},
     "output_type": "execute_result"
    }
   ],
   "source": [
    "# quantidade de produtos únicos\n",
    "len(df['product_id'].unique())"
   ]
  },
  {
   "cell_type": "code",
   "execution_count": 12,
   "metadata": {},
   "outputs": [
    {
     "data": {
      "text/plain": [
       "134"
      ]
     },
     "execution_count": 12,
     "metadata": {},
     "output_type": "execute_result"
    }
   ],
   "source": [
    "# quantidade de corredores únicos\n",
    "len(df['aisle'].unique())"
   ]
  },
  {
   "cell_type": "code",
   "execution_count": 13,
   "metadata": {},
   "outputs": [],
   "source": [
    "# Vamos associar clientes e produtos\n",
    "df_ = df.copy()\n",
    "df_ = df_[['user_id', 'product_name']]\n",
    "df_ = df_.drop_duplicates(['user_id', 'product_name'])\n",
    "df_final= df_.groupby('user_id')['product_name'].apply(list).reset_index(name = \"Products\")"
   ]
  },
  {
   "cell_type": "code",
   "execution_count": 14,
   "metadata": {},
   "outputs": [
    {
     "data": {
      "text/html": [
       "<div>\n",
       "<style scoped>\n",
       "    .dataframe tbody tr th:only-of-type {\n",
       "        vertical-align: middle;\n",
       "    }\n",
       "\n",
       "    .dataframe tbody tr th {\n",
       "        vertical-align: top;\n",
       "    }\n",
       "\n",
       "    .dataframe thead th {\n",
       "        text-align: right;\n",
       "    }\n",
       "</style>\n",
       "<table border=\"1\" class=\"dataframe\">\n",
       "  <thead>\n",
       "    <tr style=\"text-align: right;\">\n",
       "      <th></th>\n",
       "      <th>user_id</th>\n",
       "      <th>Products</th>\n",
       "    </tr>\n",
       "  </thead>\n",
       "  <tbody>\n",
       "    <tr>\n",
       "      <th>0</th>\n",
       "      <td>1</td>\n",
       "      <td>[Organic String Cheese, Original Beef Jerky, P...</td>\n",
       "    </tr>\n",
       "    <tr>\n",
       "      <th>1</th>\n",
       "      <td>2</td>\n",
       "      <td>[Chicken Caesar Salad, Uncured Slow Cooked Ham...</td>\n",
       "    </tr>\n",
       "    <tr>\n",
       "      <th>2</th>\n",
       "      <td>3</td>\n",
       "      <td>[Original Rotisserie Chicken, Organic Shredded...</td>\n",
       "    </tr>\n",
       "    <tr>\n",
       "      <th>3</th>\n",
       "      <td>4</td>\n",
       "      <td>[Roasted Pine Nut Hummus, Real Guacamole, Yell...</td>\n",
       "    </tr>\n",
       "    <tr>\n",
       "      <th>4</th>\n",
       "      <td>5</td>\n",
       "      <td>[Uncured Genoa Salami, Semi-Soft Cheese, Ripen...</td>\n",
       "    </tr>\n",
       "  </tbody>\n",
       "</table>\n",
       "</div>"
      ],
      "text/plain": [
       "   user_id                                           Products\n",
       "0        1  [Organic String Cheese, Original Beef Jerky, P...\n",
       "1        2  [Chicken Caesar Salad, Uncured Slow Cooked Ham...\n",
       "2        3  [Original Rotisserie Chicken, Organic Shredded...\n",
       "3        4  [Roasted Pine Nut Hummus, Real Guacamole, Yell...\n",
       "4        5  [Uncured Genoa Salami, Semi-Soft Cheese, Ripen..."
      ]
     },
     "execution_count": 14,
     "metadata": {},
     "output_type": "execute_result"
    }
   ],
   "source": [
    "# Visualiza\n",
    "df_final.head()"
   ]
  },
  {
   "cell_type": "code",
   "execution_count": 15,
   "metadata": {},
   "outputs": [],
   "source": [
    "#df_.to_csv(\"dados/df_final.csv\")"
   ]
  },
  {
   "cell_type": "code",
   "execution_count": 16,
   "metadata": {},
   "outputs": [],
   "source": [
    "#df_final=pd.read_csv(\"dados/df_final.csv\")"
   ]
  },
  {
   "cell_type": "code",
   "execution_count": 17,
   "metadata": {},
   "outputs": [],
   "source": [
    "# remove valores nulos\n",
    "df_final['Products'].dropna(inplace=True)"
   ]
  },
  {
   "cell_type": "code",
   "execution_count": 18,
   "metadata": {},
   "outputs": [
    {
     "data": {
      "text/plain": [
       "0"
      ]
     },
     "execution_count": 18,
     "metadata": {},
     "output_type": "execute_result"
    }
   ],
   "source": [
    "df_final['Products'].isna().sum()"
   ]
  },
  {
   "cell_type": "code",
   "execution_count": 19,
   "metadata": {},
   "outputs": [],
   "source": [
    "#df_final.drop(['Unnamed: 0'],axis=1,inplace=True)"
   ]
  },
  {
   "cell_type": "code",
   "execution_count": 20,
   "metadata": {},
   "outputs": [],
   "source": [
    "itemSetList = []\n",
    "for prod in df_final['Products']:\n",
    "    itemSetList.append(prod)"
   ]
  },
  {
   "cell_type": "code",
   "execution_count": 21,
   "metadata": {},
   "outputs": [
    {
     "data": {
      "text/plain": [
       "206209"
      ]
     },
     "execution_count": 21,
     "metadata": {},
     "output_type": "execute_result"
    }
   ],
   "source": [
    "len(itemSetList)"
   ]
  },
  {
   "cell_type": "markdown",
   "metadata": {},
   "source": [
    "### Aplicando o Algoritmo Frequent Pattern Mining"
   ]
  },
  {
   "cell_type": "code",
   "execution_count": 22,
   "metadata": {},
   "outputs": [],
   "source": [
    "freqItemSet, rules = fpgrowth(itemSetList, minSupRatio=0.08, minConf=0.4)"
   ]
  },
  {
   "cell_type": "code",
   "execution_count": 23,
   "metadata": {},
   "outputs": [
    {
     "name": "stdout",
     "output_type": "stream",
     "text": [
      "Itens adquiquiridos frequentemente:\n"
     ]
    }
   ],
   "source": [
    "print('Itens adquiquiridos frequentemente:')"
   ]
  },
  {
   "cell_type": "code",
   "execution_count": 35,
   "metadata": {},
   "outputs": [
    {
     "name": "stdout",
     "output_type": "stream",
     "text": [
      "['100% Whole Wheat Bread']\n",
      "['Small Hass Avocado']\n",
      "['Half & Half']\n",
      "['Organic Half & Half']\n",
      "['Boneless Skinless Chicken Breasts']\n",
      "['Organic Granny Smith Apple']\n",
      "['Sparkling Water Grapefruit']\n",
      "['Grated Parmesan']\n",
      "['Organic Garnet Sweet Potato (Yam)']\n",
      "['Jalapeno Peppers']\n",
      "['Organic Large Extra Fancy Fuji Apple']\n",
      "['Raspberries']\n",
      "['Red Onion']\n",
      "['Organic Gala Apples']\n",
      "['Original Hummus']\n",
      "['Organic Red Bell Pepper']\n",
      "['Red Vine Tomato']\n",
      "['Bunched Cilantro']\n",
      "['Organic Peeled Whole Baby Carrots']\n",
      "['Michigan Organic Kale']\n",
      "['Red Peppers']\n",
      "['Organic Blackberries']\n",
      "['Green Bell Pepper']\n",
      "['Organic Tomato Cluster']\n",
      "['Honeycrisp Apple']\n",
      "['Organic Ginger Root']\n",
      "['Apple Honeycrisp Organic']\n",
      "['Organic Baby Arugula']\n",
      "['Organic Whole Milk']\n",
      "['Blueberries']\n",
      "['Organic Italian Parsley Bunch']\n",
      "['Organic Cucumber']\n",
      "['Organic Small Bunch Celery']\n",
      "['Fresh Cauliflower']\n",
      "['Organic Fuji Apple']\n",
      "['Carrots']\n",
      "['Organic Red Onion']\n",
      "['Asparagus']\n",
      "['Extra Virgin Olive Oil']\n",
      "['Organic Baby Carrots']\n",
      "['Organic Cilantro']\n",
      "['Organic Lemon']\n",
      "['Seedless Red Grapes']\n",
      "['Organic Grape Tomatoes']\n",
      "['Organic Strawberries', 'Organic Grape Tomatoes']\n",
      "['Cucumber Kirby']\n",
      "['Cucumber Kirby', 'Banana']\n",
      "['Yellow Onions']\n",
      "['Yellow Onions', 'Banana']\n",
      "['Organic Raspberries']\n",
      "['Organic Raspberries', 'Bag of Organic Bananas']\n",
      "['Organic Strawberries', 'Organic Raspberries']\n",
      "['Organic Zucchini']\n",
      "['Organic Zucchini', 'Banana']\n",
      "['Bag of Organic Bananas', 'Organic Zucchini']\n",
      "['Organic Strawberries', 'Organic Zucchini']\n",
      "['Organic Baby Spinach', 'Organic Zucchini']\n",
      "['Organic Yellow Onion']\n",
      "['Organic Yellow Onion', 'Organic Hass Avocado']\n",
      "['Organic Yellow Onion', 'Organic Garlic']\n",
      "['Organic Yellow Onion', 'Bag of Organic Bananas']\n",
      "['Organic Baby Spinach', 'Organic Yellow Onion']\n",
      "['Organic Strawberries', 'Organic Yellow Onion']\n",
      "['Organic Garlic']\n",
      "['Organic Garlic', 'Banana']\n",
      "['Organic Hass Avocado', 'Organic Garlic']\n",
      "['Organic Garlic', 'Limes']\n",
      "['Organic Garlic', 'Bag of Organic Bananas']\n",
      "['Organic Strawberries', 'Organic Garlic']\n",
      "['Organic Baby Spinach', 'Organic Garlic']\n",
      "['Organic Blueberries']\n",
      "['Organic Blueberries', 'Banana']\n",
      "['Organic Baby Spinach', 'Organic Blueberries']\n",
      "['Organic Blueberries', 'Bag of Organic Bananas']\n",
      "['Organic Strawberries', 'Organic Blueberries']\n",
      "['Organic Avocado']\n",
      "['Organic Avocado', 'Bag of Organic Bananas']\n",
      "['Organic Avocado', 'Limes']\n",
      "['Organic Avocado', 'Large Lemon']\n",
      "['Organic Strawberries', 'Organic Avocado']\n",
      "['Organic Baby Spinach', 'Organic Avocado']\n",
      "['Organic Avocado', 'Banana']\n",
      "['Organic Hass Avocado']\n",
      "['Organic Hass Avocado', 'Limes']\n",
      "['Organic Hass Avocado', 'Banana']\n",
      "['Organic Baby Spinach', 'Organic Hass Avocado']\n",
      "['Organic Strawberries', 'Organic Hass Avocado']\n",
      "['Organic Hass Avocado', 'Bag of Organic Bananas']\n",
      "['Strawberries']\n",
      "['Strawberries', 'Bag of Organic Bananas']\n",
      "['Strawberries', 'Organic Strawberries']\n",
      "['Strawberries', 'Banana']\n",
      "['Limes']\n",
      "['Limes', 'Bag of Organic Bananas']\n",
      "['Organic Baby Spinach', 'Limes']\n",
      "['Organic Strawberries', 'Limes']\n",
      "['Limes', 'Large Lemon']\n",
      "['Limes', 'Banana']\n",
      "['Large Lemon']\n",
      "['Large Lemon', 'Bag of Organic Bananas']\n",
      "['Organic Strawberries', 'Large Lemon']\n",
      "['Organic Baby Spinach', 'Large Lemon']\n",
      "['Large Lemon', 'Banana']\n",
      "['Organic Baby Spinach']\n",
      "['Organic Baby Spinach', 'Banana']\n",
      "['Organic Baby Spinach', 'Bag of Organic Bananas']\n",
      "['Organic Baby Spinach', 'Organic Strawberries', 'Bag of Organic Bananas']\n",
      "['Organic Baby Spinach', 'Organic Strawberries']\n",
      "['Organic Strawberries']\n",
      "['Organic Strawberries', 'Banana']\n",
      "['Organic Strawberries', 'Bag of Organic Bananas']\n",
      "['Bag of Organic Bananas']\n",
      "['Bag of Organic Bananas', 'Banana']\n",
      "['Banana']\n"
     ]
    }
   ],
   "source": [
    "for item in freqItemSet:\n",
    "    print(list(item))"
   ]
  },
  {
   "cell_type": "code",
   "execution_count": 27,
   "metadata": {},
   "outputs": [],
   "source": [
    "Antecedente=[]\n",
    "Consequente=[]\n",
    "Confiança=[]\n",
    "\n",
    "for rule in rules:\n",
    "    Antecedente.append(rule[0].pop())\n",
    "    Consequente.append(rule[1].pop())\n",
    "    Confiança.append(rule[2])\n",
    "    \n",
    "data={}\n",
    "data['Antecedente']=Antecedente\n",
    "data['Consequente']=Consequente\n",
    "data['Confiança']=Confiança\n",
    "\n",
    "data_final=pd.DataFrame(data)"
   ]
  },
  {
   "cell_type": "markdown",
   "metadata": {},
   "source": [
    "### Ordenando por ordem decrescente em nível de confiança"
   ]
  },
  {
   "cell_type": "code",
   "execution_count": 29,
   "metadata": {},
   "outputs": [],
   "source": [
    "data_final.sort_values(['Confiança'],ascending=False,inplace=True)\n",
    "data_final.reset_index(inplace=True)\n",
    "data_final.drop('index',axis=1,inplace=True)"
   ]
  },
  {
   "cell_type": "markdown",
   "metadata": {},
   "source": [
    "### Regras de Associação"
   ]
  },
  {
   "cell_type": "code",
   "execution_count": 36,
   "metadata": {},
   "outputs": [
    {
     "data": {
      "text/html": [
       "<div>\n",
       "<style scoped>\n",
       "    .dataframe tbody tr th:only-of-type {\n",
       "        vertical-align: middle;\n",
       "    }\n",
       "\n",
       "    .dataframe tbody tr th {\n",
       "        vertical-align: top;\n",
       "    }\n",
       "\n",
       "    .dataframe thead th {\n",
       "        text-align: right;\n",
       "    }\n",
       "</style>\n",
       "<table border=\"1\" class=\"dataframe\">\n",
       "  <thead>\n",
       "    <tr style=\"text-align: right;\">\n",
       "      <th></th>\n",
       "      <th>Antecedente</th>\n",
       "      <th>Consequente</th>\n",
       "      <th>Confiança</th>\n",
       "    </tr>\n",
       "  </thead>\n",
       "  <tbody>\n",
       "    <tr>\n",
       "      <th>0</th>\n",
       "      <td>Cucumber Kirby</td>\n",
       "      <td>Banana</td>\n",
       "      <td>0.621931</td>\n",
       "    </tr>\n",
       "    <tr>\n",
       "      <th>1</th>\n",
       "      <td>Organic Baby Spinach</td>\n",
       "      <td>Organic Strawberries</td>\n",
       "      <td>0.613571</td>\n",
       "    </tr>\n",
       "    <tr>\n",
       "      <th>2</th>\n",
       "      <td>Organic Raspberries</td>\n",
       "      <td>Organic Strawberries</td>\n",
       "      <td>0.612274</td>\n",
       "    </tr>\n",
       "    <tr>\n",
       "      <th>3</th>\n",
       "      <td>Yellow Onions</td>\n",
       "      <td>Banana</td>\n",
       "      <td>0.591476</td>\n",
       "    </tr>\n",
       "    <tr>\n",
       "      <th>4</th>\n",
       "      <td>Organic Garlic</td>\n",
       "      <td>Organic Baby Spinach</td>\n",
       "      <td>0.587243</td>\n",
       "    </tr>\n",
       "    <tr>\n",
       "      <th>5</th>\n",
       "      <td>Organic Baby Spinach</td>\n",
       "      <td>Bag of Organic Bananas</td>\n",
       "      <td>0.587166</td>\n",
       "    </tr>\n",
       "    <tr>\n",
       "      <th>6</th>\n",
       "      <td>Organic Blueberries</td>\n",
       "      <td>Organic Strawberries</td>\n",
       "      <td>0.580165</td>\n",
       "    </tr>\n",
       "    <tr>\n",
       "      <th>7</th>\n",
       "      <td>Organic Raspberries</td>\n",
       "      <td>Bag of Organic Bananas</td>\n",
       "      <td>0.569224</td>\n",
       "    </tr>\n",
       "    <tr>\n",
       "      <th>8</th>\n",
       "      <td>Organic Zucchini</td>\n",
       "      <td>Organic Baby Spinach</td>\n",
       "      <td>0.563903</td>\n",
       "    </tr>\n",
       "    <tr>\n",
       "      <th>9</th>\n",
       "      <td>Organic Hass Avocado</td>\n",
       "      <td>Bag of Organic Bananas</td>\n",
       "      <td>0.562500</td>\n",
       "    </tr>\n",
       "    <tr>\n",
       "      <th>10</th>\n",
       "      <td>Organic Grape Tomatoes</td>\n",
       "      <td>Organic Strawberries</td>\n",
       "      <td>0.559942</td>\n",
       "    </tr>\n",
       "    <tr>\n",
       "      <th>11</th>\n",
       "      <td>Large Lemon</td>\n",
       "      <td>Banana</td>\n",
       "      <td>0.557103</td>\n",
       "    </tr>\n",
       "    <tr>\n",
       "      <th>12</th>\n",
       "      <td>Organic Avocado</td>\n",
       "      <td>Banana</td>\n",
       "      <td>0.556923</td>\n",
       "    </tr>\n",
       "    <tr>\n",
       "      <th>13</th>\n",
       "      <td>Organic Garlic</td>\n",
       "      <td>Organic Strawberries</td>\n",
       "      <td>0.551501</td>\n",
       "    </tr>\n",
       "    <tr>\n",
       "      <th>14</th>\n",
       "      <td>Organic Yellow Onion</td>\n",
       "      <td>Organic Strawberries</td>\n",
       "      <td>0.546723</td>\n",
       "    </tr>\n",
       "    <tr>\n",
       "      <th>15</th>\n",
       "      <td>Strawberries</td>\n",
       "      <td>Banana</td>\n",
       "      <td>0.546648</td>\n",
       "    </tr>\n",
       "    <tr>\n",
       "      <th>16</th>\n",
       "      <td>Organic Hass Avocado</td>\n",
       "      <td>Organic Strawberries</td>\n",
       "      <td>0.544515</td>\n",
       "    </tr>\n",
       "    <tr>\n",
       "      <th>17</th>\n",
       "      <td>Organic Yellow Onion</td>\n",
       "      <td>Organic Baby Spinach</td>\n",
       "      <td>0.540422</td>\n",
       "    </tr>\n",
       "    <tr>\n",
       "      <th>18</th>\n",
       "      <td>Organic Strawberries</td>\n",
       "      <td>Organic Baby Spinach</td>\n",
       "      <td>0.537160</td>\n",
       "    </tr>\n",
       "    <tr>\n",
       "      <th>19</th>\n",
       "      <td>Organic Zucchini</td>\n",
       "      <td>Organic Strawberries</td>\n",
       "      <td>0.533475</td>\n",
       "    </tr>\n",
       "    <tr>\n",
       "      <th>20</th>\n",
       "      <td>Organic Yellow Onion</td>\n",
       "      <td>Bag of Organic Bananas</td>\n",
       "      <td>0.525288</td>\n",
       "    </tr>\n",
       "    <tr>\n",
       "      <th>21</th>\n",
       "      <td>Limes</td>\n",
       "      <td>Banana</td>\n",
       "      <td>0.523469</td>\n",
       "    </tr>\n",
       "    <tr>\n",
       "      <th>22</th>\n",
       "      <td>Organic Garlic</td>\n",
       "      <td>Bag of Organic Bananas</td>\n",
       "      <td>0.515511</td>\n",
       "    </tr>\n",
       "    <tr>\n",
       "      <th>23</th>\n",
       "      <td>Organic Strawberries</td>\n",
       "      <td>Bag of Organic Bananas</td>\n",
       "      <td>0.514404</td>\n",
       "    </tr>\n",
       "    <tr>\n",
       "      <th>24</th>\n",
       "      <td>Organic Baby Spinach</td>\n",
       "      <td>Organic Strawberries</td>\n",
       "      <td>0.506765</td>\n",
       "    </tr>\n",
       "    <tr>\n",
       "      <th>25</th>\n",
       "      <td>Organic Hass Avocado</td>\n",
       "      <td>Organic Baby Spinach</td>\n",
       "      <td>0.506554</td>\n",
       "    </tr>\n",
       "    <tr>\n",
       "      <th>26</th>\n",
       "      <td>Organic Yellow Onion</td>\n",
       "      <td>Organic Garlic</td>\n",
       "      <td>0.505879</td>\n",
       "    </tr>\n",
       "    <tr>\n",
       "      <th>27</th>\n",
       "      <td>Organic Blueberries</td>\n",
       "      <td>Bag of Organic Bananas</td>\n",
       "      <td>0.505863</td>\n",
       "    </tr>\n",
       "    <tr>\n",
       "      <th>28</th>\n",
       "      <td>Organic Yellow Onion</td>\n",
       "      <td>Organic Hass Avocado</td>\n",
       "      <td>0.501153</td>\n",
       "    </tr>\n",
       "    <tr>\n",
       "      <th>29</th>\n",
       "      <td>Limes</td>\n",
       "      <td>Large Lemon</td>\n",
       "      <td>0.500000</td>\n",
       "    </tr>\n",
       "    <tr>\n",
       "      <th>30</th>\n",
       "      <td>Organic Avocado</td>\n",
       "      <td>Organic Baby Spinach</td>\n",
       "      <td>0.497998</td>\n",
       "    </tr>\n",
       "    <tr>\n",
       "      <th>31</th>\n",
       "      <td>Organic Garlic</td>\n",
       "      <td>Organic Yellow Onion</td>\n",
       "      <td>0.496357</td>\n",
       "    </tr>\n",
       "    <tr>\n",
       "      <th>32</th>\n",
       "      <td>Organic Garlic</td>\n",
       "      <td>Limes</td>\n",
       "      <td>0.495915</td>\n",
       "    </tr>\n",
       "    <tr>\n",
       "      <th>33</th>\n",
       "      <td>Organic Zucchini</td>\n",
       "      <td>Bag of Organic Bananas</td>\n",
       "      <td>0.494600</td>\n",
       "    </tr>\n",
       "    <tr>\n",
       "      <th>34</th>\n",
       "      <td>Organic Garlic</td>\n",
       "      <td>Organic Hass Avocado</td>\n",
       "      <td>0.493818</td>\n",
       "    </tr>\n",
       "    <tr>\n",
       "      <th>35</th>\n",
       "      <td>Organic Zucchini</td>\n",
       "      <td>Banana</td>\n",
       "      <td>0.485889</td>\n",
       "    </tr>\n",
       "    <tr>\n",
       "      <th>36</th>\n",
       "      <td>Organic Baby Spinach</td>\n",
       "      <td>Bag of Organic Bananas</td>\n",
       "      <td>0.484956</td>\n",
       "    </tr>\n",
       "    <tr>\n",
       "      <th>37</th>\n",
       "      <td>Large Lemon</td>\n",
       "      <td>Limes</td>\n",
       "      <td>0.479882</td>\n",
       "    </tr>\n",
       "    <tr>\n",
       "      <th>38</th>\n",
       "      <td>Bag of Organic Bananas</td>\n",
       "      <td>Organic Strawberries</td>\n",
       "      <td>0.478943</td>\n",
       "    </tr>\n",
       "    <tr>\n",
       "      <th>39</th>\n",
       "      <td>Organic Strawberries</td>\n",
       "      <td>Organic Baby Spinach</td>\n",
       "      <td>0.470595</td>\n",
       "    </tr>\n",
       "    <tr>\n",
       "      <th>40</th>\n",
       "      <td>Organic Avocado</td>\n",
       "      <td>Organic Strawberries</td>\n",
       "      <td>0.470492</td>\n",
       "    </tr>\n",
       "    <tr>\n",
       "      <th>41</th>\n",
       "      <td>Limes</td>\n",
       "      <td>Organic Strawberries</td>\n",
       "      <td>0.465922</td>\n",
       "    </tr>\n",
       "    <tr>\n",
       "      <th>42</th>\n",
       "      <td>Limes</td>\n",
       "      <td>Organic Baby Spinach</td>\n",
       "      <td>0.465194</td>\n",
       "    </tr>\n",
       "    <tr>\n",
       "      <th>43</th>\n",
       "      <td>Organic Strawberries</td>\n",
       "      <td>Banana</td>\n",
       "      <td>0.464280</td>\n",
       "    </tr>\n",
       "    <tr>\n",
       "      <th>44</th>\n",
       "      <td>Organic Garlic</td>\n",
       "      <td>Banana</td>\n",
       "      <td>0.462464</td>\n",
       "    </tr>\n",
       "    <tr>\n",
       "      <th>45</th>\n",
       "      <td>Organic Baby Spinach</td>\n",
       "      <td>Banana</td>\n",
       "      <td>0.453705</td>\n",
       "    </tr>\n",
       "    <tr>\n",
       "      <th>46</th>\n",
       "      <td>Strawberries</td>\n",
       "      <td>Organic Strawberries</td>\n",
       "      <td>0.449562</td>\n",
       "    </tr>\n",
       "    <tr>\n",
       "      <th>47</th>\n",
       "      <td>Organic Blueberries</td>\n",
       "      <td>Organic Baby Spinach</td>\n",
       "      <td>0.446823</td>\n",
       "    </tr>\n",
       "    <tr>\n",
       "      <th>48</th>\n",
       "      <td>Organic Avocado</td>\n",
       "      <td>Large Lemon</td>\n",
       "      <td>0.444556</td>\n",
       "    </tr>\n",
       "    <tr>\n",
       "      <th>49</th>\n",
       "      <td>Organic Blueberries</td>\n",
       "      <td>Banana</td>\n",
       "      <td>0.444344</td>\n",
       "    </tr>\n",
       "    <tr>\n",
       "      <th>50</th>\n",
       "      <td>Organic Avocado</td>\n",
       "      <td>Limes</td>\n",
       "      <td>0.434773</td>\n",
       "    </tr>\n",
       "    <tr>\n",
       "      <th>51</th>\n",
       "      <td>Large Lemon</td>\n",
       "      <td>Organic Baby Spinach</td>\n",
       "      <td>0.431090</td>\n",
       "    </tr>\n",
       "    <tr>\n",
       "      <th>52</th>\n",
       "      <td>Organic Hass Avocado</td>\n",
       "      <td>Banana</td>\n",
       "      <td>0.423206</td>\n",
       "    </tr>\n",
       "    <tr>\n",
       "      <th>53</th>\n",
       "      <td>Bag of Organic Bananas</td>\n",
       "      <td>Organic Baby Spinach</td>\n",
       "      <td>0.419298</td>\n",
       "    </tr>\n",
       "    <tr>\n",
       "      <th>54</th>\n",
       "      <td>Large Lemon</td>\n",
       "      <td>Organic Strawberries</td>\n",
       "      <td>0.416135</td>\n",
       "    </tr>\n",
       "    <tr>\n",
       "      <th>55</th>\n",
       "      <td>Limes</td>\n",
       "      <td>Organic Avocado</td>\n",
       "      <td>0.409576</td>\n",
       "    </tr>\n",
       "    <tr>\n",
       "      <th>56</th>\n",
       "      <td>Limes</td>\n",
       "      <td>Bag of Organic Bananas</td>\n",
       "      <td>0.408504</td>\n",
       "    </tr>\n",
       "    <tr>\n",
       "      <th>57</th>\n",
       "      <td>Organic Hass Avocado</td>\n",
       "      <td>Limes</td>\n",
       "      <td>0.406496</td>\n",
       "    </tr>\n",
       "    <tr>\n",
       "      <th>58</th>\n",
       "      <td>Large Lemon</td>\n",
       "      <td>Organic Avocado</td>\n",
       "      <td>0.401942</td>\n",
       "    </tr>\n",
       "    <tr>\n",
       "      <th>59</th>\n",
       "      <td>Organic Hass Avocado</td>\n",
       "      <td>Organic Garlic</td>\n",
       "      <td>0.400233</td>\n",
       "    </tr>\n",
       "  </tbody>\n",
       "</table>\n",
       "</div>"
      ],
      "text/plain": [
       "               Antecedente             Consequente  Confiança\n",
       "0           Cucumber Kirby                  Banana   0.621931\n",
       "1     Organic Baby Spinach    Organic Strawberries   0.613571\n",
       "2      Organic Raspberries    Organic Strawberries   0.612274\n",
       "3            Yellow Onions                  Banana   0.591476\n",
       "4           Organic Garlic    Organic Baby Spinach   0.587243\n",
       "5     Organic Baby Spinach  Bag of Organic Bananas   0.587166\n",
       "6      Organic Blueberries    Organic Strawberries   0.580165\n",
       "7      Organic Raspberries  Bag of Organic Bananas   0.569224\n",
       "8         Organic Zucchini    Organic Baby Spinach   0.563903\n",
       "9     Organic Hass Avocado  Bag of Organic Bananas   0.562500\n",
       "10  Organic Grape Tomatoes    Organic Strawberries   0.559942\n",
       "11             Large Lemon                  Banana   0.557103\n",
       "12         Organic Avocado                  Banana   0.556923\n",
       "13          Organic Garlic    Organic Strawberries   0.551501\n",
       "14    Organic Yellow Onion    Organic Strawberries   0.546723\n",
       "15            Strawberries                  Banana   0.546648\n",
       "16    Organic Hass Avocado    Organic Strawberries   0.544515\n",
       "17    Organic Yellow Onion    Organic Baby Spinach   0.540422\n",
       "18    Organic Strawberries    Organic Baby Spinach   0.537160\n",
       "19        Organic Zucchini    Organic Strawberries   0.533475\n",
       "20    Organic Yellow Onion  Bag of Organic Bananas   0.525288\n",
       "21                   Limes                  Banana   0.523469\n",
       "22          Organic Garlic  Bag of Organic Bananas   0.515511\n",
       "23    Organic Strawberries  Bag of Organic Bananas   0.514404\n",
       "24    Organic Baby Spinach    Organic Strawberries   0.506765\n",
       "25    Organic Hass Avocado    Organic Baby Spinach   0.506554\n",
       "26    Organic Yellow Onion          Organic Garlic   0.505879\n",
       "27     Organic Blueberries  Bag of Organic Bananas   0.505863\n",
       "28    Organic Yellow Onion    Organic Hass Avocado   0.501153\n",
       "29                   Limes             Large Lemon   0.500000\n",
       "30         Organic Avocado    Organic Baby Spinach   0.497998\n",
       "31          Organic Garlic    Organic Yellow Onion   0.496357\n",
       "32          Organic Garlic                   Limes   0.495915\n",
       "33        Organic Zucchini  Bag of Organic Bananas   0.494600\n",
       "34          Organic Garlic    Organic Hass Avocado   0.493818\n",
       "35        Organic Zucchini                  Banana   0.485889\n",
       "36    Organic Baby Spinach  Bag of Organic Bananas   0.484956\n",
       "37             Large Lemon                   Limes   0.479882\n",
       "38  Bag of Organic Bananas    Organic Strawberries   0.478943\n",
       "39    Organic Strawberries    Organic Baby Spinach   0.470595\n",
       "40         Organic Avocado    Organic Strawberries   0.470492\n",
       "41                   Limes    Organic Strawberries   0.465922\n",
       "42                   Limes    Organic Baby Spinach   0.465194\n",
       "43    Organic Strawberries                  Banana   0.464280\n",
       "44          Organic Garlic                  Banana   0.462464\n",
       "45    Organic Baby Spinach                  Banana   0.453705\n",
       "46            Strawberries    Organic Strawberries   0.449562\n",
       "47     Organic Blueberries    Organic Baby Spinach   0.446823\n",
       "48         Organic Avocado             Large Lemon   0.444556\n",
       "49     Organic Blueberries                  Banana   0.444344\n",
       "50         Organic Avocado                   Limes   0.434773\n",
       "51             Large Lemon    Organic Baby Spinach   0.431090\n",
       "52    Organic Hass Avocado                  Banana   0.423206\n",
       "53  Bag of Organic Bananas    Organic Baby Spinach   0.419298\n",
       "54             Large Lemon    Organic Strawberries   0.416135\n",
       "55                   Limes         Organic Avocado   0.409576\n",
       "56                   Limes  Bag of Organic Bananas   0.408504\n",
       "57    Organic Hass Avocado                   Limes   0.406496\n",
       "58             Large Lemon         Organic Avocado   0.401942\n",
       "59    Organic Hass Avocado          Organic Garlic   0.400233"
      ]
     },
     "execution_count": 36,
     "metadata": {},
     "output_type": "execute_result"
    }
   ],
   "source": [
    "data_final"
   ]
  },
  {
   "cell_type": "markdown",
   "metadata": {},
   "source": [
    "**Confidence** (Confiança)\n",
    "\n",
    "Essa medida define a probabilidade de ocorrência de consequentes no carrinho, uma vez que o carrinho já possui os antecedentes. \n",
    "\n",
    "Essa medida é usada para responder à pergunta: De todas as transações contendo {Manteiga}, quantas também tinham {Pão}? Podemos dizer que é de conhecimento comum que {Manteiga} → {Pão} deve ser uma regra de alta confiança. \n",
    "\n",
    "Tecnicamente, a confiança é a probabilidade condicional de ocorrência do consequente dado o antecedente. \n",
    "\n",
    "Matematicamente:\n",
    "\n",
    "![title](imagens/confidence.png)\n",
    "\n",
    "Não importa o que você tenha no antecedente para um consequente tão frequente. A confiança para uma regra de associação com um consequente muito frequente sempre será alta."
   ]
  },
  {
   "cell_type": "markdown",
   "metadata": {},
   "source": [
    "## Conclusão"
   ]
  },
  {
   "cell_type": "markdown",
   "metadata": {},
   "source": [
    "Podemos ver através das regras de associação acima, a relação entre antecedente e consequente e o nível de confiança em ordem decrescente\n",
    "\n",
    "Ex: \n",
    "\n",
    "1) Quem comprou Pepino Kirby poderá adquirir Banana com um nível de confiança de 62,1931 % \n",
    "\n",
    "2) O Cliente que comprou Espinafre bebê orgânico também poderá adquirir Morangos Orgânicos com um nível de confiança de 61,3571 % \n",
    "\n",
    "3) Quem comprou Framboesas Orgânicas poderá adquirir Morangos Orgânicos com um nível de confiança de 61,2274 % \n",
    "\n",
    "4) O Cliente que comprou Cebolas Amarelas poderá também adquirir Banana com um nível de confiança de 59,1476 % \n"
   ]
  },
  {
   "cell_type": "markdown",
   "metadata": {},
   "source": [
    "# Fim"
   ]
  }
 ],
 "metadata": {
  "kernelspec": {
   "display_name": "Python 3",
   "language": "python",
   "name": "python3"
  },
  "language_info": {
   "codemirror_mode": {
    "name": "ipython",
    "version": 3
   },
   "file_extension": ".py",
   "mimetype": "text/x-python",
   "name": "python",
   "nbconvert_exporter": "python",
   "pygments_lexer": "ipython3",
   "version": "3.7.3"
  }
 },
 "nbformat": 4,
 "nbformat_minor": 4
}
